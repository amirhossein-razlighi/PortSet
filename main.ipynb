{
 "cells": [
  {
   "cell_type": "code",
   "execution_count": null,
   "metadata": {},
   "outputs": [],
   "source": [
    "%pip install pillow pillow-heif matplotlib opencv-python numpy"
   ]
  },
  {
   "cell_type": "code",
   "execution_count": 2,
   "metadata": {},
   "outputs": [],
   "source": [
    "from PIL import Image, ImageOps, ImageChops\n",
    "from pillow_heif import register_heif_opener\n",
    "import os\n",
    "import numpy as np\n",
    "import matplotlib.pyplot as plt\n",
    "import cv2"
   ]
  },
  {
   "cell_type": "code",
   "execution_count": 3,
   "metadata": {},
   "outputs": [],
   "source": [
    "register_heif_opener()\n",
    "DATASET_ROOT = \"./Dataset/\""
   ]
  },
  {
   "cell_type": "markdown",
   "metadata": {},
   "source": [
    "# Convert HEIC images to JPG"
   ]
  },
  {
   "cell_type": "code",
   "execution_count": 6,
   "metadata": {},
   "outputs": [],
   "source": [
    "for img_path in os.listdir(DATASET_ROOT + \"AmirHossein\"):\n",
    "    if img_path.endswith(\".HEIC\"):\n",
    "        img = Image.open(DATASET_ROOT + \"AmirHossein/\" + img_path)\n",
    "        img.save(DATASET_ROOT + \"AmirHossein/\" + \"JPG/\" + img_path[:-5] + \".jpg\", format=\"jpeg\")"
   ]
  },
  {
   "cell_type": "markdown",
   "metadata": {},
   "source": [
    "## Split the main images from blurred ones"
   ]
  },
  {
   "cell_type": "code",
   "execution_count": 12,
   "metadata": {},
   "outputs": [],
   "source": [
    "for img_path in os.listdir(DATASET_ROOT + \"AmirHossein/\" + \"JPG/\"):\n",
    "    name = img_path.split(\".\")[0]\n",
    "    image = Image.open(DATASET_ROOT + \"AmirHossein/\" + \"JPG/\" + img_path)\n",
    "\n",
    "    if name.endswith(\"(1)\"):\n",
    "        name = name[:-3]\n",
    "        image.save(DATASET_ROOT + \"AmirHossein/\" + \"Blurred/\" + name + \".jpg\")\n",
    "    else:\n",
    "        image.save(DATASET_ROOT + \"AmirHossein/\" + \"Original/\" + name + \".jpg\")"
   ]
  },
  {
   "cell_type": "code",
   "execution_count": 18,
   "metadata": {},
   "outputs": [],
   "source": [
    "for i, img_path in enumerate(sorted(os.listdir(DATASET_ROOT + \"Mehrab/\"))):\n",
    "    name = img_path.split(\".\")[0]\n",
    "    if name == \"Original\" or name == \"Blurred\":\n",
    "        continue\n",
    "    image = Image.open(DATASET_ROOT + \"Mehrab/\" + img_path)\n",
    "\n",
    "    if i % 2 == 1:  # It's the original image\n",
    "        image.save(DATASET_ROOT + \"Mehrab/\" + \"Original/\" + name + \".jpg\")\n",
    "    else:  # It's the blurred image\n",
    "        image.save(DATASET_ROOT + \"Mehrab/\" + \"Blurred/\" + name + \".jpg\")"
   ]
  },
  {
   "cell_type": "code",
   "execution_count": 19,
   "metadata": {},
   "outputs": [
    {
     "name": "stdout",
     "output_type": "stream",
     "text": [
      "['20230802_102806.jpg', '20230802_102816.jpg', '20230802_102840.jpg', '20230802_103013.jpg', '20230802_103052.jpg', '20230802_103413.jpg', '20230802_103511.jpg', '20230802_103517.jpg', '20230802_110902.jpg', '20230802_110913.jpg', '20230802_110928.jpg', '20230802_111154.jpg', '20230802_111225.jpg', '20230802_112031.jpg', '20230802_112039.jpg', '20230802_121323.jpg', '20230802_121346.jpg', '20230802_121447.jpg', '20230802_121458.jpg', '20230802_121517.jpg', '20230802_121847.jpg', '20230802_121936.jpg', '20230802_121950.jpg', '20230802_121956.jpg', '20230802_122420.jpg', '20230802_122432.jpg', '20230802_122643.jpg', '20230802_122648.jpg', '20230802_122655.jpg', '20230802_122755.jpg', '20230802_122803.jpg', '20230802_132512.jpg', '20230802_132530.jpg', '20230802_132738.jpg', '20230802_132747.jpg', '20230802_134623.jpg', '20230802_134636.jpg', '20230802_134640.jpg', '20230802_134642.jpg', '20230802_135151.jpg', '20230802_135204.jpg', '20230802_135444.jpg', '20230802_135455.jpg', '20230802_135457.jpg', '20230802_145936.jpg', '20230802_145945.jpg', '20230802_181633.jpg', '20230802_181641.jpg', '20230802_181703.jpg', '20230802_183136.jpg', '20230802_183143.jpg', '20230802_183954.jpg', '20230802_184000.jpg', '20230802_184841.jpg', '20230802_184849.jpg', '20230802_184855.jpg', '20230802_184903.jpg', '20230802_184915.jpg', '20230802_184941.jpg', '20230802_184952.jpg', '20230802_184956.jpg', '20230802_185045.jpg', '20230802_185050.jpg', '20230802_185116.jpg', '20230802_193107.jpg', '20230802_194210.jpg', '20230802_194221.jpg', '20230802_194459.jpg', '20230802_194732.jpg', '20230802_194849.jpg', '20230802_195053.jpg', '20230802_195057.jpg', '20230802_195107.jpg', '20230802_195121.jpg', '20230802_195132.jpg', '20230802_195142.jpg', '20230802_203051.jpg', '20230802_203101.jpg', '20230802_203229.jpg', '20230802_203242.jpg', '20230802_203454.jpg', '20230802_203505.jpg', '20230802_203510.jpg', '20230802_203534.jpg', '20230802_203545.jpg', '20230802_203558.jpg', '20230802_203621.jpg', '20230802_204010.jpg', '20230802_204019.jpg', '20230802_204150.jpg', '20230802_204205.jpg', '20230802_204214.jpg', '20230802_204328.jpg', '20230802_204339.jpg', '20230802_204401.jpg', '20230802_204409.jpg', '20230802_204426.jpg', '20230802_204433.jpg', '20230802_204458.jpg', '20230802_204506.jpg', '20230802_204532.jpg', '20230802_204540.jpg', '20230802_204613.jpg', '20230802_204647.jpg', '20230802_204701.jpg', '20230802_204727.jpg', '20230802_204743.jpg', '20230802_204825.jpg', '20230802_204831.jpg', '20230802_204909.jpg', '20230802_205111.jpg', '20230802_205118.jpg', '20230802_205235.jpg', '20230802_205243.jpg', '20230802_205320.jpg', '20230802_205333.jpg', '20230802_205431.jpg', '20230802_205443.jpg', '20230802_205454.jpg', '20230802_205502.jpg', '20230802_205506.jpg', '20230802_205719.jpg', '20230802_205726.jpg', '20230802_205744.jpg', '20230802_205802.jpg', '20230802_205817.jpg', '20230802_205826.jpg', '20230802_210439.jpg', '20230802_210457.jpg', '20230802_210504.jpg', '20230802_210512.jpg', '20230802_210518.jpg', '20230802_210659.jpg', '20230802_210721.jpg', '20230802_210826.jpg', '20230802_210840.jpg', '20230802_210907.jpg', '20230802_210933.jpg', '20230802_211030.jpg', '20230802_211057.jpg', '20230802_212004.jpg', '20230802_212013.jpg', '20230802_212433.jpg', '20230802_212438.jpg', '20230802_212449.jpg', '20230802_212621.jpg', '20230802_212639.jpg', '20230802_213552.jpg', '20230802_213553.jpg', '20230802_213604.jpg', '20230802_213613.jpg', '20230803_111632.jpg', '20230803_111638.jpg', '20230803_111730.jpg', '20230803_111748.jpg', '20230803_111850.jpg', '20230803_111950.jpg', '20230803_112330.jpg', '20230803_112336.jpg', '20230803_112343.jpg', '20230803_112349.jpg', '20230803_112730.jpg', '20230803_112746.jpg', '20230803_141639.jpg', '20230803_141649.jpg', '20230803_141708.jpg', '20230803_141842.jpg', '20230803_141851.jpg', '20230803_141901.jpg', '20230803_152831.jpg', '20230803_152848.jpg', '20230803_154953.jpg', '20230803_155002.jpg', '20230803_155024.jpg', '20230803_155055.jpg', '20230803_155127.jpg', '20230803_155143.jpg', '20230803_155204.jpg', '20230803_155230.jpg', '20230803_155246.jpg', '20230803_155308.jpg', '20230803_155411.jpg', '20230803_155417.jpg', '20230803_155529.jpg', '20230803_155534.jpg', '20230803_163359.jpg', '20230803_163408.jpg', '20230803_163412.jpg', '20230803_180846.jpg', '20230803_180857.jpg', '20230803_184137.jpg', '20230803_184142.jpg', '20230803_201346.jpg', '20230803_201406.jpg', '20230803_201420.jpg', '20230803_201430.jpg', '20230803_201713.jpg', '20230803_201720.jpg', '20230803_201931.jpg', '20230803_201940.jpg', '20230803_202445.jpg', '20230803_202505.jpg', '20230803_202557.jpg', '20230803_202624.jpg', '20230803_202810.jpg', '20230803_202820.jpg', '20230803_203151.jpg', '20230803_203205.jpg', '20230803_203308.jpg', '20230803_203318.jpg', '20230803_203424.jpg', '20230803_203455.jpg', '20230803_203925.jpg', '20230803_203937.jpg', '20230803_204050.jpg', '20230803_204154.jpg', '20230803_204237.jpg', '20230803_204243.jpg', '20230803_204336.jpg', '20230803_204347.jpg', '20230803_204407.jpg', '20230803_204415.jpg', '20230803_204552.jpg', '20230803_204559.jpg', '20230803_204731.jpg', '20230803_204738.jpg', '20230803_204830.jpg', '20230803_204853.jpg', '20230803_204908.jpg', '20230803_204918.jpg', '20230803_205225.jpg', '20230803_205241.jpg', '20230803_205254.jpg', '20230803_205308.jpg', '20230803_205546.jpg', '20230803_205556.jpg', '20230803_205640.jpg', '20230803_205721.jpg', '20230803_210348.jpg', '20230803_210406.jpg', '20230803_210913.jpg', '20230803_210920.jpg', '20230803_211058.jpg', '20230803_211148.jpg', '20230803_211152.jpg', '20230803_211342.jpg', '20230803_211350.jpg', '20230803_211702.jpg', '20230803_211717.jpg']\n"
     ]
    }
   ],
   "source": [
    "lst = os.listdir(DATASET_ROOT + \"Mohammad/\")\n",
    "lst = sorted(lst)\n",
    "print(lst)\n",
    "#TODO"
   ]
  },
  {
   "cell_type": "code",
   "execution_count": 57,
   "metadata": {},
   "outputs": [
    {
     "data": {
      "image/png": "[encoded data removed]",
      "text/plain": [
       "<Figure size 640x480 with 1 Axes>"
      ]
     },
     "metadata": {},
     "output_type": "display_data"
    }
   ],
   "source": [
    "from PIL import ImageFilter\n",
    "\n",
    "\n",
    "def extract_background(blurred_path):\n",
    "    # load image\n",
    "    img = cv2.imread(blurred_path)\n",
    "    img = cv2.cvtColor(img, cv2.COLOR_BGR2RGB)\n",
    "\n",
    "    # grayscale\n",
    "    gray = cv2.cvtColor(img, cv2.COLOR_RGB2GRAY)\n",
    "\n",
    "    # canny\n",
    "    canned = cv2.Canny(gray, 100, 200)\n",
    "\n",
    "    # dilate to close holes in lines\n",
    "    kernel = np.ones((5, 5), np.uint8)\n",
    "    mask = cv2.dilate(canned, kernel, iterations=1)\n",
    "\n",
    "    # find contours\n",
    "    contours, _ = cv2.findContours(mask, cv2.RETR_TREE, cv2.CHAIN_APPROX_SIMPLE)\n",
    "\n",
    "    # find big contours\n",
    "    biggest_cntr = None\n",
    "    biggest_area = 0\n",
    "    for contour in contours:\n",
    "        area = cv2.contourArea(contour)\n",
    "        if area > biggest_area:\n",
    "            biggest_area = area\n",
    "            biggest_cntr = contour\n",
    "\n",
    "    # draw contours\n",
    "    crop_mask = np.zeros_like(mask)\n",
    "    cv2.drawContours(crop_mask, [biggest_cntr], -1, (255), -1)\n",
    "\n",
    "    # fill in holes\n",
    "    # inverted\n",
    "    inverted = cv2.bitwise_not(crop_mask)\n",
    "\n",
    "    # contours again\n",
    "    contours, _ = cv2.findContours(inverted, cv2.RETR_TREE, cv2.CHAIN_APPROX_SIMPLE)\n",
    "\n",
    "    # find small contours\n",
    "    small_cntrs = []\n",
    "    for contour in contours:\n",
    "        area = cv2.contourArea(contour)\n",
    "        if area < 20000:\n",
    "            print(area)\n",
    "            small_cntrs.append(contour)\n",
    "\n",
    "    # draw on mask\n",
    "    cv2.drawContours(crop_mask, small_cntrs, -1, (255), -1)\n",
    "\n",
    "    # opening + median blur to smooth jaggies\n",
    "    crop_mask = cv2.erode(crop_mask, kernel, iterations=1)\n",
    "    crop_mask = cv2.dilate(crop_mask, kernel, iterations=1)\n",
    "    crop_mask = cv2.medianBlur(crop_mask, 5)\n",
    "\n",
    "    # crop image\n",
    "    crop = np.zeros_like(img)\n",
    "    crop[crop_mask == 255] = img[crop_mask == 255]\n",
    "\n",
    "    plt.imshow(crop_mask)\n",
    "\n",
    "extract_background(\n",
    "    \"./Dataset/Iman Mohammadi/Blured/01.jpg\"\n",
    ")"
   ]
  },
  {
   "cell_type": "code",
   "execution_count": 4,
   "metadata": {},
   "outputs": [
    {
     "name": "stderr",
     "output_type": "stream",
     "text": [
      "100%|██████████| 4/4 [02:47<00:00, 41.90s/it]\n"
     ]
    }
   ],
   "source": [
    "from tqdm import tqdm\n",
    "\n",
    "dirs = set(os.listdir(DATASET_ROOT)) - {\n",
    "    \"GT_Images\",\n",
    "    \"Masks\",\n",
    "    \"Input_Images\",\n",
    "    \".DS_Store\",\n",
    "    # \"Mohammad\",  # TODO\n",
    "    # \"Soroush\",\n",
    "    # \"AmirHossein\",\n",
    "    # \"Iman Mohammadi\",\n",
    "    # \"Mehrab\",\n",
    "}\n",
    "\n",
    "i = 0\n",
    "if len(os.listdir(DATASET_ROOT + \"Input_Images/\")) > 0:\n",
    "    lst = sorted(os.listdir(DATASET_ROOT + \"Input_Images/\"))\n",
    "    last_item = lst[-1].split(\".\")[0]\n",
    "    i = int(last_item) + 1\n",
    "    print(\"Starting from image number: \", i)\n",
    "\n",
    "for folder_name in tqdm(dirs):\n",
    "    orig_path = os.path.join(DATASET_ROOT, folder_name, \"Original/\")\n",
    "    blur_path = os.path.join(DATASET_ROOT, folder_name, \"Blurred/\")\n",
    "\n",
    "    for img_path in os.listdir(orig_path):\n",
    "        name = img_path.split(\".\")[0]\n",
    "        if img_path == \".DS_Store\":\n",
    "            continue\n",
    "\n",
    "        original = Image.open(orig_path + img_path)\n",
    "        blurred = Image.open(blur_path + name + \".jpg\")\n",
    "\n",
    "        original.save(\n",
    "            os.path.join(DATASET_ROOT, \"Input_Images\", str(i) + \".jpg\"), format=\"jpeg\"\n",
    "        )\n",
    "        blurred.save(\n",
    "            os.path.join(DATASET_ROOT, \"GT_Images\", str(i) + \".jpg\"), format=\"jpeg\"\n",
    "        )\n",
    "        i += 1"
   ]
  },
  {
   "cell_type": "code",
   "execution_count": 6,
   "metadata": {},
   "outputs": [
    {
     "name": "stdout",
     "output_type": "stream",
     "text": [
      "Starting from image number:  508\n"
     ]
    }
   ],
   "source": [
    "if len(os.listdir(DATASET_ROOT + \"Input_Images/\")) > 0:\n",
    "    lst = sorted(\n",
    "        os.listdir(DATASET_ROOT + \"Input_Images/\"), key=lambda x: int(x.split(\".\")[0])\n",
    "    )\n",
    "    last_item = lst[-1].split(\".\")[0]\n",
    "    i = int(last_item) + 1\n",
    "    print(\"Starting from image number: \", i)"
   ]
  },
  {
   "cell_type": "code",
   "execution_count": 8,
   "metadata": {},
   "outputs": [],
   "source": [
    "folder_name = \"Mohammad\"\n",
    "\n",
    "orig_path = os.path.join(DATASET_ROOT, folder_name, \"Original/\")\n",
    "blur_path = os.path.join(DATASET_ROOT, folder_name, \"Blurred/\")\n",
    "\n",
    "for img_path in os.listdir(orig_path):\n",
    "    name = img_path.split(\".\")[0]\n",
    "    if img_path == \".DS_Store\":\n",
    "        continue\n",
    "\n",
    "    original = Image.open(orig_path + img_path)\n",
    "    blurred = Image.open(blur_path + name + \".jpg\")\n",
    "\n",
    "    original.save(\n",
    "        os.path.join(DATASET_ROOT, \"Input_Images\", str(i) + \".jpg\"), format=\"jpeg\"\n",
    "    )\n",
    "    blurred.save(\n",
    "        os.path.join(DATASET_ROOT, \"GT_Images\", str(i) + \".jpg\"), format=\"jpeg\"\n",
    "    )\n",
    "    i += 1"
   ]
  },
  {
   "cell_type": "code",
   "execution_count": 9,
   "metadata": {},
   "outputs": [
    {
     "name": "stdout",
     "output_type": "stream",
     "text": [
      "(3024, 4032)\n",
      "(4000, 1800)\n",
      "(4032, 3024)\n",
      "(4000, 3000)\n",
      "(4000, 3000)\n"
     ]
    }
   ],
   "source": [
    "img_amir = Image.open(DATASET_ROOT + 'AmirHossein/Original/' + 'IMG_3278.JPG')\n",
    "img_moh = Image.open(DATASET_ROOT + 'Mohammad/Original/' + '20230802_194210.JPG')\n",
    "img_meh = Image.open(DATASET_ROOT + 'Mehrab/Original/' + '0.JPG')\n",
    "img_sor = Image.open(DATASET_ROOT + 'Soroush/Original/' + '20230801_192300.jpg')\n",
    "img_im = Image.open(DATASET_ROOT + 'Iman Mohammadi/Original/' + '01.jpg')\n",
    "\n",
    "print(img_amir.size)\n",
    "print(img_moh.size)\n",
    "print(img_meh.size)\n",
    "print(img_sor.size)\n",
    "print(img_im.size)"
   ]
  },
  {
   "cell_type": "code",
   "execution_count": 10,
   "metadata": {},
   "outputs": [
    {
     "name": "stdout",
     "output_type": "stream",
     "text": [
      "Done!\n"
     ]
    }
   ],
   "source": [
    "# Copy Images from ./Dataset/Input_Images and ./Dataset/GT_Images to ./Dataset_Final/Input_Images and ./Dataset_Final/GT_Images\n",
    "# And also change the width and height of all of them to 512x512\n",
    "\n",
    "import os\n",
    "import cv2\n",
    "import numpy as np\n",
    "import matplotlib.pyplot as plt\n",
    "\n",
    "# Input Images\n",
    "input_images_path = \"./Dataset/Input_Images/\"\n",
    "input_images = os.listdir(input_images_path)\n",
    "input_images = sorted(input_images, key=lambda x: int(x.split(\".\")[0]))\n",
    "\n",
    "# GT Images\n",
    "gt_images_path = \"./Dataset/GT_Images/\"\n",
    "gt_images = os.listdir(gt_images_path)\n",
    "gt_images = sorted(gt_images, key=lambda x: int(x.split(\".\")[0]))\n",
    "\n",
    "# Create the new folders\n",
    "os.mkdir(\"./Dataset_Final/Input_Images/\")\n",
    "os.mkdir(\"./Dataset_Final/GT_Images/\")\n",
    "\n",
    "# Copy the images\n",
    "for i in range(len(input_images)):\n",
    "    # Input Images\n",
    "    img = cv2.imread(input_images_path + input_images[i])\n",
    "    img = cv2.resize(img, (512, 512))\n",
    "    cv2.imwrite(\"./Dataset_Final/Input_Images/\" + input_images[i], img)\n",
    "\n",
    "    # GT Images\n",
    "    img = cv2.imread(gt_images_path + gt_images[i])\n",
    "    img = cv2.resize(img, (512, 512))\n",
    "    cv2.imwrite(\"./Dataset_Final/GT_Images/\" + gt_images[i], img)\n",
    "\n",
    "print(\"Done!\")"
   ]
  },
  {
   "cell_type": "code",
   "execution_count": 5,
   "metadata": {},
   "outputs": [],
   "source": [
    "import tensorflow_datasets as tfds\n",
    "\n",
    "ds = tfds.load(\"tensorflow_portset\", split=\"all_data\")"
   ]
  },
  {
   "cell_type": "code",
   "execution_count": null,
   "metadata": {},
   "outputs": [],
   "source": [
    "import matplotlib.pyplot as plt\n",
    "import os\n",
    "\n",
    "for data in ds:\n",
    "    # Create a row of 2 images\n",
    "    fig, ax = plt.subplots(1, 2, figsize=(10, 5))\n",
    "    # Show the input image\n",
    "    ax[0].imshow(data[\"input_image\"])\n",
    "    ax[0].set_title(\"Input image\")\n",
    "    # Show the target image\n",
    "    ax[1].imshow(data[\"blurred_image\"])\n",
    "    ax[1].set_title(\"Blurred image\")\n",
    "    print(data[\"input_image\"].shape)\n",
    "    print(data[\"blurred_image\"].shape)\n",
    "    plt.show()"
   ]
  },
  {
   "cell_type": "code",
   "execution_count": 4,
   "metadata": {},
   "outputs": [
    {
     "data": {
      "text/plain": [
       "(512, 512)"
      ]
     },
     "execution_count": 4,
     "metadata": {},
     "output_type": "execute_result"
    }
   ],
   "source": [
    "from PIL import Image\n",
    "Image.open(\"./Dataset/Input_Images/1.jpg\").size"
   ]
  },
  {
   "cell_type": "code",
   "execution_count": 28,
   "metadata": {},
   "outputs": [
    {
     "ename": "ImportError",
     "evalue": "cannot import name 'PortsetDataset' from 'torch_portset' (/Users/amirhossein/Documents/University/Digital Image Processing/PortSet/torch_portset/__init__.py)",
     "output_type": "error",
     "traceback": [
      "\u001b[0;31m---------------------------------------------------------------------------\u001b[0m",
      "\u001b[0;31mImportError\u001b[0m                               Traceback (most recent call last)",
      "Cell \u001b[0;32mIn[28], line 1\u001b[0m\n\u001b[0;32m----> 1\u001b[0m \u001b[39mfrom\u001b[39;00m \u001b[39mtorch_portset\u001b[39;00m \u001b[39mimport\u001b[39;00m PortsetDataset\n\u001b[1;32m      3\u001b[0m sample_ds \u001b[39m=\u001b[39m PortsetDataset(root\u001b[39m=\u001b[39m\u001b[39m\"\u001b[39m\u001b[39m./Dataset\u001b[39m\u001b[39m\"\u001b[39m, transform\u001b[39m=\u001b[39m\u001b[39mNone\u001b[39;00m, target_transform\u001b[39m=\u001b[39m\u001b[39mNone\u001b[39;00m)\n\u001b[1;32m      4\u001b[0m sample_ds[\u001b[39m0\u001b[39m]\n",
      "\u001b[0;31mImportError\u001b[0m: cannot import name 'PortsetDataset' from 'torch_portset' (/Users/amirhossein/Documents/University/Digital Image Processing/PortSet/torch_portset/__init__.py)"
     ]
    }
   ],
   "source": [
    "from torch_portset.portset_dataset import PortsetDataset\n",
    "\n",
    "sample_ds = PortsetDataset(root=\"./Dataset\", transform=None, target_transform=None)\n",
    "sample_ds[0]"
   ]
  },
  {
   "cell_type": "code",
   "execution_count": null,
   "metadata": {},
   "outputs": [],
   "source": []
  }
 ],
 "metadata": {
  "kernelspec": {
   "display_name": "venv",
   "language": "python",
   "name": "python3"
  },
  "language_info": {
   "codemirror_mode": {
    "name": "ipython",
    "version": 3
   },
   "file_extension": ".py",
   "mimetype": "text/x-python",
   "name": "python",
   "nbconvert_exporter": "python",
   "pygments_lexer": "ipython3",
   "version": "3.10.8"
  },
  "orig_nbformat": 4
 },
 "nbformat": 4,
 "nbformat_minor": 2
}
